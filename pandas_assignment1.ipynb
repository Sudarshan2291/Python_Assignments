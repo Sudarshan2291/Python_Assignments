{
 "cells": [
  {
   "cell_type": "code",
   "execution_count": 1,
   "id": "9ca6edc8-c8ad-467c-9c5e-41f08d648b80",
   "metadata": {},
   "outputs": [],
   "source": [
    "import pandas as pd"
   ]
  },
  {
   "cell_type": "markdown",
   "id": "ef48e482-ecad-4309-8441-88f8a2935048",
   "metadata": {},
   "source": [
    "# 1."
   ]
  },
  {
   "cell_type": "code",
   "execution_count": 3,
   "id": "fa761446-daf4-4f03-8185-4d732e6666f2",
   "metadata": {},
   "outputs": [
    {
     "name": "stdout",
     "output_type": "stream",
     "text": [
      "0    10\n",
      "1    20\n",
      "2    30\n",
      "3    40\n",
      "4    50\n",
      "dtype: int64\n",
      "<class 'pandas.core.series.Series'>\n"
     ]
    }
   ],
   "source": [
    "x=pd.Series([10,20,30,40,50])\n",
    "print(x)\n",
    "print(type(x))"
   ]
  },
  {
   "cell_type": "markdown",
   "id": "ebe244ec-64ff-47d4-a77e-99d452b946ce",
   "metadata": {},
   "source": [
    "# 2."
   ]
  },
  {
   "cell_type": "code",
   "execution_count": 7,
   "id": "42e1d31e-52e3-4d38-9587-60aa92a5cabe",
   "metadata": {},
   "outputs": [
    {
     "name": "stdout",
     "output_type": "stream",
     "text": [
      "    X   Y   Z\n",
      "0  11  14  17\n",
      "1  12  15  18\n",
      "2  13  16  19\n"
     ]
    },
    {
     "data": {
      "text/plain": [
       "Index(['X', 'Y', 'Z'], dtype='object')"
      ]
     },
     "execution_count": 7,
     "metadata": {},
     "output_type": "execute_result"
    }
   ],
   "source": [
    "y=pd.DataFrame({'X':[11,12,13],'Y':[14,15,16],'Z':[17,18,19]})\n",
    "print(y)\n",
    "type(y)\n",
    "y.columns"
   ]
  },
  {
   "cell_type": "markdown",
   "id": "37524ae8-3811-4d4e-bacd-025f9b56a0f4",
   "metadata": {},
   "source": [
    "# 3."
   ]
  },
  {
   "cell_type": "code",
   "execution_count": 10,
   "id": "d5f6003c-61d0-4a39-bfcf-38e68d11b246",
   "metadata": {},
   "outputs": [
    {
     "name": "stdout",
     "output_type": "stream",
     "text": [
      "2               3\n",
      "3          Pandas\n",
      "4           False\n",
      "5    [40, 50, 60]\n",
      "dtype: object\n",
      "[3, 'Pandas', False, [40, 50, 60]]\n"
     ]
    }
   ],
   "source": [
    "z= pd.Series([1,2,3,\"Pandas\",False,[40,50,60]])\n",
    "print(z[2::])\n",
    "a= [1,2,3,'Pandas',False,[40,50,60]]\n",
    "print(a[2::])"
   ]
  },
  {
   "cell_type": "markdown",
   "id": "e351178e-8769-430a-9beb-a291617484f1",
   "metadata": {},
   "source": [
    "# 4."
   ]
  },
  {
   "cell_type": "code",
   "execution_count": 12,
   "id": "f34f06fe-11b1-4466-bb01-ccbdcb944f91",
   "metadata": {},
   "outputs": [
    {
     "name": "stdout",
     "output_type": "stream",
     "text": [
      "[[70, 80, 90], True, 'DataFrame']\n"
     ]
    }
   ],
   "source": [
    "b= [1,2,3,'DataFrame',True,[70,80,90]]\n",
    "print(b[-1:-4:-1])"
   ]
  },
  {
   "cell_type": "markdown",
   "id": "8f1570ad-0ee6-4787-a8e7-cf31c0877602",
   "metadata": {},
   "source": [
    "# 5."
   ]
  },
  {
   "cell_type": "code",
   "execution_count": 13,
   "id": "cb1df321-7c8e-4804-aa91-22c624e3fe33",
   "metadata": {},
   "outputs": [
    {
     "name": "stdout",
     "output_type": "stream",
     "text": [
      "0     5\n",
      "1    10\n",
      "2    15\n",
      "3    20\n",
      "4    25\n",
      "5    30\n",
      "dtype: int64\n",
      "15\n"
     ]
    }
   ],
   "source": [
    "c= [5,10,15,20,25,30]\n",
    "d= pd.Series(c)\n",
    "print(d)\n",
    "print(d[2])"
   ]
  },
  {
   "cell_type": "markdown",
   "id": "fbafcafd-10b7-41a7-96ab-5acf7c5efada",
   "metadata": {},
   "source": [
    "# 6."
   ]
  },
  {
   "cell_type": "code",
   "execution_count": 14,
   "id": "4c84724f-c9d7-4de1-a220-faa4fc3b716f",
   "metadata": {},
   "outputs": [
    {
     "data": {
      "text/plain": [
       "0    1\n",
       "1    2\n",
       "2    3\n",
       "Name: A, dtype: int64"
      ]
     },
     "execution_count": 14,
     "metadata": {},
     "output_type": "execute_result"
    }
   ],
   "source": [
    "e={'A':[1,2,3],'B':[4,5,6]}\n",
    "f= pd.DataFrame(e)\n",
    "f['A']"
   ]
  },
  {
   "cell_type": "markdown",
   "id": "1d78b949-bd36-4676-94f1-842f8aff6bea",
   "metadata": {},
   "source": [
    "# 7."
   ]
  },
  {
   "cell_type": "code",
   "execution_count": 16,
   "id": "eed2994f-49a9-45d1-83fb-c85570a5c2f5",
   "metadata": {},
   "outputs": [
    {
     "name": "stdout",
     "output_type": "stream",
     "text": [
      "<class 'pandas.core.frame.DataFrame'>\n",
      "RangeIndex: 3 entries, 0 to 2\n",
      "Data columns (total 2 columns):\n",
      " #   Column  Non-Null Count  Dtype\n",
      "---  ------  --------------  -----\n",
      " 0   A       3 non-null      int64\n",
      " 1   B       3 non-null      int64\n",
      "dtypes: int64(2)\n",
      "memory usage: 180.0 bytes\n",
      "None\n"
     ]
    }
   ],
   "source": [
    "g={'A':[1,2,3],'B':[4,5,6]}\n",
    "h= pd.DataFrame(g)\n",
    "print(h.info())"
   ]
  },
  {
   "cell_type": "markdown",
   "id": "702fdf22-541e-45ab-a247-a4a7c331b3ae",
   "metadata": {},
   "source": [
    "# 8."
   ]
  },
  {
   "cell_type": "code",
   "execution_count": 17,
   "id": "1400b5a0-4397-4922-85d4-d5b6d5bbb96a",
   "metadata": {},
   "outputs": [
    {
     "data": {
      "text/html": [
       "<div>\n",
       "<style scoped>\n",
       "    .dataframe tbody tr th:only-of-type {\n",
       "        vertical-align: middle;\n",
       "    }\n",
       "\n",
       "    .dataframe tbody tr th {\n",
       "        vertical-align: top;\n",
       "    }\n",
       "\n",
       "    .dataframe thead th {\n",
       "        text-align: right;\n",
       "    }\n",
       "</style>\n",
       "<table border=\"1\" class=\"dataframe\">\n",
       "  <thead>\n",
       "    <tr style=\"text-align: right;\">\n",
       "      <th></th>\n",
       "      <th>Series_reference</th>\n",
       "      <th>Period</th>\n",
       "      <th>Data_value</th>\n",
       "      <th>Suppressed</th>\n",
       "      <th>STATUS</th>\n",
       "      <th>UNITS</th>\n",
       "      <th>Magnitude</th>\n",
       "      <th>Subject</th>\n",
       "      <th>Group</th>\n",
       "      <th>Series_title_1</th>\n",
       "      <th>Series_title_2</th>\n",
       "      <th>Series_title_3</th>\n",
       "      <th>Series_title_4</th>\n",
       "      <th>Series_title_5</th>\n",
       "    </tr>\n",
       "  </thead>\n",
       "  <tbody>\n",
       "    <tr>\n",
       "      <th>0</th>\n",
       "      <td>BDCQ.SF1AA2CA</td>\n",
       "      <td>2016.06</td>\n",
       "      <td>1116.386</td>\n",
       "      <td>NaN</td>\n",
       "      <td>F</td>\n",
       "      <td>Dollars</td>\n",
       "      <td>6</td>\n",
       "      <td>Business Data Collection - BDC</td>\n",
       "      <td>Industry by financial variable (NZSIOC Level 2)</td>\n",
       "      <td>Sales (operating income)</td>\n",
       "      <td>Forestry and Logging</td>\n",
       "      <td>Current prices</td>\n",
       "      <td>Unadjusted</td>\n",
       "      <td>NaN</td>\n",
       "    </tr>\n",
       "    <tr>\n",
       "      <th>1</th>\n",
       "      <td>BDCQ.SF1AA2CA</td>\n",
       "      <td>2016.09</td>\n",
       "      <td>1070.874</td>\n",
       "      <td>NaN</td>\n",
       "      <td>F</td>\n",
       "      <td>Dollars</td>\n",
       "      <td>6</td>\n",
       "      <td>Business Data Collection - BDC</td>\n",
       "      <td>Industry by financial variable (NZSIOC Level 2)</td>\n",
       "      <td>Sales (operating income)</td>\n",
       "      <td>Forestry and Logging</td>\n",
       "      <td>Current prices</td>\n",
       "      <td>Unadjusted</td>\n",
       "      <td>NaN</td>\n",
       "    </tr>\n",
       "    <tr>\n",
       "      <th>2</th>\n",
       "      <td>BDCQ.SF1AA2CA</td>\n",
       "      <td>2016.12</td>\n",
       "      <td>1054.408</td>\n",
       "      <td>NaN</td>\n",
       "      <td>F</td>\n",
       "      <td>Dollars</td>\n",
       "      <td>6</td>\n",
       "      <td>Business Data Collection - BDC</td>\n",
       "      <td>Industry by financial variable (NZSIOC Level 2)</td>\n",
       "      <td>Sales (operating income)</td>\n",
       "      <td>Forestry and Logging</td>\n",
       "      <td>Current prices</td>\n",
       "      <td>Unadjusted</td>\n",
       "      <td>NaN</td>\n",
       "    </tr>\n",
       "    <tr>\n",
       "      <th>3</th>\n",
       "      <td>BDCQ.SF1AA2CA</td>\n",
       "      <td>2017.03</td>\n",
       "      <td>1010.665</td>\n",
       "      <td>NaN</td>\n",
       "      <td>F</td>\n",
       "      <td>Dollars</td>\n",
       "      <td>6</td>\n",
       "      <td>Business Data Collection - BDC</td>\n",
       "      <td>Industry by financial variable (NZSIOC Level 2)</td>\n",
       "      <td>Sales (operating income)</td>\n",
       "      <td>Forestry and Logging</td>\n",
       "      <td>Current prices</td>\n",
       "      <td>Unadjusted</td>\n",
       "      <td>NaN</td>\n",
       "    </tr>\n",
       "    <tr>\n",
       "      <th>4</th>\n",
       "      <td>BDCQ.SF1AA2CA</td>\n",
       "      <td>2017.06</td>\n",
       "      <td>1233.700</td>\n",
       "      <td>NaN</td>\n",
       "      <td>F</td>\n",
       "      <td>Dollars</td>\n",
       "      <td>6</td>\n",
       "      <td>Business Data Collection - BDC</td>\n",
       "      <td>Industry by financial variable (NZSIOC Level 2)</td>\n",
       "      <td>Sales (operating income)</td>\n",
       "      <td>Forestry and Logging</td>\n",
       "      <td>Current prices</td>\n",
       "      <td>Unadjusted</td>\n",
       "      <td>NaN</td>\n",
       "    </tr>\n",
       "    <tr>\n",
       "      <th>...</th>\n",
       "      <td>...</td>\n",
       "      <td>...</td>\n",
       "      <td>...</td>\n",
       "      <td>...</td>\n",
       "      <td>...</td>\n",
       "      <td>...</td>\n",
       "      <td>...</td>\n",
       "      <td>...</td>\n",
       "      <td>...</td>\n",
       "      <td>...</td>\n",
       "      <td>...</td>\n",
       "      <td>...</td>\n",
       "      <td>...</td>\n",
       "      <td>...</td>\n",
       "    </tr>\n",
       "    <tr>\n",
       "      <th>7390</th>\n",
       "      <td>BDCQ.SF8RSCA</td>\n",
       "      <td>2022.12</td>\n",
       "      <td>518.615</td>\n",
       "      <td>NaN</td>\n",
       "      <td>F</td>\n",
       "      <td>Dollars</td>\n",
       "      <td>6</td>\n",
       "      <td>Business Data Collection - BDC</td>\n",
       "      <td>Industry by financial variable (NZSIOC Level 1)</td>\n",
       "      <td>Operating profit</td>\n",
       "      <td>Arts, Recreation and Other Services</td>\n",
       "      <td>Current</td>\n",
       "      <td>Unadjusted</td>\n",
       "      <td>NaN</td>\n",
       "    </tr>\n",
       "    <tr>\n",
       "      <th>7391</th>\n",
       "      <td>BDCQ.SF8RSCA</td>\n",
       "      <td>2023.03</td>\n",
       "      <td>663.630</td>\n",
       "      <td>NaN</td>\n",
       "      <td>F</td>\n",
       "      <td>Dollars</td>\n",
       "      <td>6</td>\n",
       "      <td>Business Data Collection - BDC</td>\n",
       "      <td>Industry by financial variable (NZSIOC Level 1)</td>\n",
       "      <td>Operating profit</td>\n",
       "      <td>Arts, Recreation and Other Services</td>\n",
       "      <td>Current</td>\n",
       "      <td>Unadjusted</td>\n",
       "      <td>NaN</td>\n",
       "    </tr>\n",
       "    <tr>\n",
       "      <th>7392</th>\n",
       "      <td>BDCQ.SF8RSCA</td>\n",
       "      <td>2023.06</td>\n",
       "      <td>617.507</td>\n",
       "      <td>NaN</td>\n",
       "      <td>F</td>\n",
       "      <td>Dollars</td>\n",
       "      <td>6</td>\n",
       "      <td>Business Data Collection - BDC</td>\n",
       "      <td>Industry by financial variable (NZSIOC Level 1)</td>\n",
       "      <td>Operating profit</td>\n",
       "      <td>Arts, Recreation and Other Services</td>\n",
       "      <td>Current</td>\n",
       "      <td>Unadjusted</td>\n",
       "      <td>NaN</td>\n",
       "    </tr>\n",
       "    <tr>\n",
       "      <th>7393</th>\n",
       "      <td>BDCQ.SF8RSCA</td>\n",
       "      <td>2023.09</td>\n",
       "      <td>673.068</td>\n",
       "      <td>NaN</td>\n",
       "      <td>R</td>\n",
       "      <td>Dollars</td>\n",
       "      <td>6</td>\n",
       "      <td>Business Data Collection - BDC</td>\n",
       "      <td>Industry by financial variable (NZSIOC Level 1)</td>\n",
       "      <td>Operating profit</td>\n",
       "      <td>Arts, Recreation and Other Services</td>\n",
       "      <td>Current</td>\n",
       "      <td>Unadjusted</td>\n",
       "      <td>NaN</td>\n",
       "    </tr>\n",
       "    <tr>\n",
       "      <th>7394</th>\n",
       "      <td>BDCQ.SF8RSCA</td>\n",
       "      <td>2023.12</td>\n",
       "      <td>511.098</td>\n",
       "      <td>NaN</td>\n",
       "      <td>F</td>\n",
       "      <td>Dollars</td>\n",
       "      <td>6</td>\n",
       "      <td>Business Data Collection - BDC</td>\n",
       "      <td>Industry by financial variable (NZSIOC Level 1)</td>\n",
       "      <td>Operating profit</td>\n",
       "      <td>Arts, Recreation and Other Services</td>\n",
       "      <td>Current</td>\n",
       "      <td>Unadjusted</td>\n",
       "      <td>NaN</td>\n",
       "    </tr>\n",
       "  </tbody>\n",
       "</table>\n",
       "<p>7395 rows × 14 columns</p>\n",
       "</div>"
      ],
      "text/plain": [
       "     Series_reference   Period  Data_value Suppressed STATUS    UNITS  \\\n",
       "0       BDCQ.SF1AA2CA  2016.06    1116.386        NaN      F  Dollars   \n",
       "1       BDCQ.SF1AA2CA  2016.09    1070.874        NaN      F  Dollars   \n",
       "2       BDCQ.SF1AA2CA  2016.12    1054.408        NaN      F  Dollars   \n",
       "3       BDCQ.SF1AA2CA  2017.03    1010.665        NaN      F  Dollars   \n",
       "4       BDCQ.SF1AA2CA  2017.06    1233.700        NaN      F  Dollars   \n",
       "...               ...      ...         ...        ...    ...      ...   \n",
       "7390     BDCQ.SF8RSCA  2022.12     518.615        NaN      F  Dollars   \n",
       "7391     BDCQ.SF8RSCA  2023.03     663.630        NaN      F  Dollars   \n",
       "7392     BDCQ.SF8RSCA  2023.06     617.507        NaN      F  Dollars   \n",
       "7393     BDCQ.SF8RSCA  2023.09     673.068        NaN      R  Dollars   \n",
       "7394     BDCQ.SF8RSCA  2023.12     511.098        NaN      F  Dollars   \n",
       "\n",
       "      Magnitude                         Subject  \\\n",
       "0             6  Business Data Collection - BDC   \n",
       "1             6  Business Data Collection - BDC   \n",
       "2             6  Business Data Collection - BDC   \n",
       "3             6  Business Data Collection - BDC   \n",
       "4             6  Business Data Collection - BDC   \n",
       "...         ...                             ...   \n",
       "7390          6  Business Data Collection - BDC   \n",
       "7391          6  Business Data Collection - BDC   \n",
       "7392          6  Business Data Collection - BDC   \n",
       "7393          6  Business Data Collection - BDC   \n",
       "7394          6  Business Data Collection - BDC   \n",
       "\n",
       "                                                Group  \\\n",
       "0     Industry by financial variable (NZSIOC Level 2)   \n",
       "1     Industry by financial variable (NZSIOC Level 2)   \n",
       "2     Industry by financial variable (NZSIOC Level 2)   \n",
       "3     Industry by financial variable (NZSIOC Level 2)   \n",
       "4     Industry by financial variable (NZSIOC Level 2)   \n",
       "...                                               ...   \n",
       "7390  Industry by financial variable (NZSIOC Level 1)   \n",
       "7391  Industry by financial variable (NZSIOC Level 1)   \n",
       "7392  Industry by financial variable (NZSIOC Level 1)   \n",
       "7393  Industry by financial variable (NZSIOC Level 1)   \n",
       "7394  Industry by financial variable (NZSIOC Level 1)   \n",
       "\n",
       "                Series_title_1                       Series_title_2  \\\n",
       "0     Sales (operating income)                 Forestry and Logging   \n",
       "1     Sales (operating income)                 Forestry and Logging   \n",
       "2     Sales (operating income)                 Forestry and Logging   \n",
       "3     Sales (operating income)                 Forestry and Logging   \n",
       "4     Sales (operating income)                 Forestry and Logging   \n",
       "...                        ...                                  ...   \n",
       "7390          Operating profit  Arts, Recreation and Other Services   \n",
       "7391          Operating profit  Arts, Recreation and Other Services   \n",
       "7392          Operating profit  Arts, Recreation and Other Services   \n",
       "7393          Operating profit  Arts, Recreation and Other Services   \n",
       "7394          Operating profit  Arts, Recreation and Other Services   \n",
       "\n",
       "      Series_title_3 Series_title_4  Series_title_5  \n",
       "0     Current prices     Unadjusted             NaN  \n",
       "1     Current prices     Unadjusted             NaN  \n",
       "2     Current prices     Unadjusted             NaN  \n",
       "3     Current prices     Unadjusted             NaN  \n",
       "4     Current prices     Unadjusted             NaN  \n",
       "...              ...            ...             ...  \n",
       "7390         Current     Unadjusted             NaN  \n",
       "7391         Current     Unadjusted             NaN  \n",
       "7392         Current     Unadjusted             NaN  \n",
       "7393         Current     Unadjusted             NaN  \n",
       "7394         Current     Unadjusted             NaN  \n",
       "\n",
       "[7395 rows x 14 columns]"
      ]
     },
     "execution_count": 17,
     "metadata": {},
     "output_type": "execute_result"
    }
   ],
   "source": [
    "df = pd.read_csv('sample.csv')\n",
    "df"
   ]
  },
  {
   "cell_type": "markdown",
   "id": "765f5b4d-aec3-47cf-b831-4283dc8f1fc7",
   "metadata": {},
   "source": [
    "# 9."
   ]
  },
  {
   "cell_type": "code",
   "execution_count": 19,
   "id": "5b56b66b-9ab5-47d4-9d2a-20ea472ebb1e",
   "metadata": {},
   "outputs": [
    {
     "name": "stdout",
     "output_type": "stream",
     "text": [
      "Empty DataFrame\n",
      "Columns: []\n",
      "Index: []\n"
     ]
    }
   ],
   "source": [
    "i=pd.DataFrame()\n",
    "print(i)"
   ]
  },
  {
   "cell_type": "markdown",
   "id": "541f2321-622a-4ea4-a478-b58f9cd59308",
   "metadata": {},
   "source": [
    "# 10."
   ]
  },
  {
   "cell_type": "code",
   "execution_count": 24,
   "id": "2afe5fe2-39fe-47c8-9f6c-f6ce3466c138",
   "metadata": {},
   "outputs": [
    {
     "name": "stdout",
     "output_type": "stream",
     "text": [
      "   A  B  C\n",
      "0  1  3  5\n",
      "1  2  4  6\n"
     ]
    }
   ],
   "source": [
    "j={'A':[1,2],'B':[3,4]}\n",
    "k= pd.DataFrame(j)\n",
    "k['C']=[5,6]\n",
    "print(k)"
   ]
  }
 ],
 "metadata": {
  "kernelspec": {
   "display_name": "Python 3 (ipykernel)",
   "language": "python",
   "name": "python3"
  },
  "language_info": {
   "codemirror_mode": {
    "name": "ipython",
    "version": 3
   },
   "file_extension": ".py",
   "mimetype": "text/x-python",
   "name": "python",
   "nbconvert_exporter": "python",
   "pygments_lexer": "ipython3",
   "version": "3.11.7"
  },
  "widgets": {
   "application/vnd.jupyter.widget-state+json": {
    "state": {},
    "version_major": 2,
    "version_minor": 0
   }
  }
 },
 "nbformat": 4,
 "nbformat_minor": 5
}
